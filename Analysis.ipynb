{
 "cells": [
  {
   "cell_type": "code",
   "execution_count": 161,
   "id": "32f955e1",
   "metadata": {},
   "outputs": [],
   "source": [
    "#Samantha Brayton\n",
    "#March 2023\n",
    "#Project 2 Data Analysis"
   ]
  },
  {
   "cell_type": "code",
   "execution_count": 16,
   "id": "748405ec",
   "metadata": {},
   "outputs": [],
   "source": [
    "import pandas as pd"
   ]
  },
  {
   "cell_type": "code",
   "execution_count": 17,
   "id": "e30ae3ca",
   "metadata": {},
   "outputs": [],
   "source": [
    "import matplotlib.pyplot as plt"
   ]
  },
  {
   "cell_type": "code",
   "execution_count": 18,
   "id": "0a950246",
   "metadata": {},
   "outputs": [],
   "source": [
    "#import the original .csv file\n",
    "df1 = \"/Users/sambrayton/Desktop/DataSciProg/Project1/Fall_Comp.csv\""
   ]
  },
  {
   "cell_type": "code",
   "execution_count": 19,
   "id": "1961edfd",
   "metadata": {},
   "outputs": [],
   "source": [
    "#import the clean .csv file\n",
    "dfc = \"/Users/sambrayton/Desktop/DataSciProg/Project2/cleaned_survey.csv\""
   ]
  },
  {
   "cell_type": "code",
   "execution_count": 20,
   "id": "e0ab3f7e",
   "metadata": {},
   "outputs": [],
   "source": [
    "df = pd.read_csv(dfc)\n",
    "df = df.drop(columns=['Unnamed: 0'])"
   ]
  },
  {
   "cell_type": "code",
   "execution_count": 21,
   "id": "a499ae21",
   "metadata": {},
   "outputs": [
    {
     "data": {
      "text/plain": [
       "degree\n",
       "Academy Student                                     1\n",
       "Biology                                             2\n",
       "Business                                            9\n",
       "CIS Game Development Option                         9\n",
       "Challenger Program                                  4\n",
       "Computer Science                                   83\n",
       "Data Analytics Certificate of Achievement           1\n",
       "Digital Media Technology                            5\n",
       "Early Childhood Education                           1\n",
       "Engineering                                        20\n",
       "Finance                                             2\n",
       "Highschool Student                                  2\n",
       "Information Security Certificate of Achievement     1\n",
       "Information Technology                             43\n",
       "Liberal Arts                                        3\n",
       "Mathematics                                         1\n",
       "Music Recording                                     1\n",
       "Non Degree seeking                                  3\n",
       "Political Science                                   1\n",
       "Psychology                                          1\n",
       "ShareTime CSIP Program                             10\n",
       "Technical Studies, Applied Associate of Science     2\n",
       "Undecided                                          11\n",
       "Web Development Certificate of Achievement          2\n",
       "Name: degree, dtype: int64"
      ]
     },
     "execution_count": 21,
     "metadata": {},
     "output_type": "execute_result"
    }
   ],
   "source": [
    "df.head()\n",
    "deg=  df.groupby(['degree'])['degree'].count()\n",
    "deg"
   ]
  },
  {
   "cell_type": "code",
   "execution_count": 123,
   "id": "0ca3ca1c",
   "metadata": {},
   "outputs": [
    {
     "data": {
      "text/html": [
       "<div>\n",
       "<style scoped>\n",
       "    .dataframe tbody tr th:only-of-type {\n",
       "        vertical-align: middle;\n",
       "    }\n",
       "\n",
       "    .dataframe tbody tr th {\n",
       "        vertical-align: top;\n",
       "    }\n",
       "\n",
       "    .dataframe thead th {\n",
       "        text-align: right;\n",
       "    }\n",
       "</style>\n",
       "<table border=\"1\" class=\"dataframe\">\n",
       "  <thead>\n",
       "    <tr style=\"text-align: right;\">\n",
       "      <th></th>\n",
       "      <th>course</th>\n",
       "      <th>degree</th>\n",
       "      <th>gender</th>\n",
       "      <th>race</th>\n",
       "      <th>age</th>\n",
       "    </tr>\n",
       "  </thead>\n",
       "  <tbody>\n",
       "    <tr>\n",
       "      <th>0</th>\n",
       "      <td>CMP 128 Computer Science I</td>\n",
       "      <td>Computer Science</td>\n",
       "      <td>Man</td>\n",
       "      <td>White/Caucasian</td>\n",
       "      <td>19-20</td>\n",
       "    </tr>\n",
       "    <tr>\n",
       "      <th>1</th>\n",
       "      <td>NaN</td>\n",
       "      <td>Computer Science</td>\n",
       "      <td>Man</td>\n",
       "      <td>White/Caucasian</td>\n",
       "      <td>25-34</td>\n",
       "    </tr>\n",
       "    <tr>\n",
       "      <th>2</th>\n",
       "      <td>CMP 128 Computer Science I</td>\n",
       "      <td>Liberal Arts</td>\n",
       "      <td>Woman</td>\n",
       "      <td>White/Caucasian</td>\n",
       "      <td>19-20</td>\n",
       "    </tr>\n",
       "    <tr>\n",
       "      <th>3</th>\n",
       "      <td>CMP 128 Computer Science I</td>\n",
       "      <td>Computer Science</td>\n",
       "      <td>Man</td>\n",
       "      <td>Asian</td>\n",
       "      <td>18 and younger</td>\n",
       "    </tr>\n",
       "    <tr>\n",
       "      <th>4</th>\n",
       "      <td>CMP 128 Computer Science I</td>\n",
       "      <td>Information Technology</td>\n",
       "      <td>Man</td>\n",
       "      <td>White/Caucasian</td>\n",
       "      <td>25-34</td>\n",
       "    </tr>\n",
       "    <tr>\n",
       "      <th>...</th>\n",
       "      <td>...</td>\n",
       "      <td>...</td>\n",
       "      <td>...</td>\n",
       "      <td>...</td>\n",
       "      <td>...</td>\n",
       "    </tr>\n",
       "    <tr>\n",
       "      <th>213</th>\n",
       "      <td>CMP 131 Fundamentals of Programming (Python)</td>\n",
       "      <td>Information Technology</td>\n",
       "      <td>Man</td>\n",
       "      <td>Multi-Racial</td>\n",
       "      <td>21-24</td>\n",
       "    </tr>\n",
       "    <tr>\n",
       "      <th>214</th>\n",
       "      <td>CMP 128 Computer Science I</td>\n",
       "      <td>Computer Science</td>\n",
       "      <td>Man</td>\n",
       "      <td>Asian</td>\n",
       "      <td>19-20</td>\n",
       "    </tr>\n",
       "    <tr>\n",
       "      <th>215</th>\n",
       "      <td>CMP 128 Computer Science I</td>\n",
       "      <td>Technical Studies, Applied Associate of Science</td>\n",
       "      <td>Man</td>\n",
       "      <td>White/Caucasian</td>\n",
       "      <td>25-34</td>\n",
       "    </tr>\n",
       "    <tr>\n",
       "      <th>216</th>\n",
       "      <td>CMP 128 Computer Science I</td>\n",
       "      <td>Computer Science</td>\n",
       "      <td>Man</td>\n",
       "      <td>Multi-Racial</td>\n",
       "      <td>21-24</td>\n",
       "    </tr>\n",
       "    <tr>\n",
       "      <th>217</th>\n",
       "      <td>CMP 128 Computer Science I</td>\n",
       "      <td>Engineering</td>\n",
       "      <td>Man</td>\n",
       "      <td>White/Caucasian</td>\n",
       "      <td>25-34</td>\n",
       "    </tr>\n",
       "  </tbody>\n",
       "</table>\n",
       "<p>218 rows × 5 columns</p>\n",
       "</div>"
      ],
      "text/plain": [
       "                                           course  \\\n",
       "0                      CMP 128 Computer Science I   \n",
       "1                                             NaN   \n",
       "2                      CMP 128 Computer Science I   \n",
       "3                      CMP 128 Computer Science I   \n",
       "4                      CMP 128 Computer Science I   \n",
       "..                                            ...   \n",
       "213  CMP 131 Fundamentals of Programming (Python)   \n",
       "214                    CMP 128 Computer Science I   \n",
       "215                    CMP 128 Computer Science I   \n",
       "216                    CMP 128 Computer Science I   \n",
       "217                    CMP 128 Computer Science I   \n",
       "\n",
       "                                              degree gender             race  \\\n",
       "0                                   Computer Science    Man  White/Caucasian   \n",
       "1                                   Computer Science    Man  White/Caucasian   \n",
       "2                                       Liberal Arts  Woman  White/Caucasian   \n",
       "3                                   Computer Science    Man            Asian   \n",
       "4                             Information Technology    Man  White/Caucasian   \n",
       "..                                               ...    ...              ...   \n",
       "213                           Information Technology    Man     Multi-Racial   \n",
       "214                                 Computer Science    Man            Asian   \n",
       "215  Technical Studies, Applied Associate of Science    Man  White/Caucasian   \n",
       "216                                 Computer Science    Man     Multi-Racial   \n",
       "217                                      Engineering    Man  White/Caucasian   \n",
       "\n",
       "                age  \n",
       "0             19-20  \n",
       "1             25-34  \n",
       "2             19-20  \n",
       "3    18 and younger  \n",
       "4             25-34  \n",
       "..              ...  \n",
       "213           21-24  \n",
       "214           19-20  \n",
       "215           25-34  \n",
       "216           21-24  \n",
       "217           25-34  \n",
       "\n",
       "[218 rows x 5 columns]"
      ]
     },
     "execution_count": 123,
     "metadata": {},
     "output_type": "execute_result"
    }
   ],
   "source": [
    "demo = df[['course','degree','gender','race','age']]\n",
    "demo"
   ]
  },
  {
   "cell_type": "code",
   "execution_count": 133,
   "id": "e86bbd09",
   "metadata": {},
   "outputs": [
    {
     "data": {
      "text/plain": [
       "course\n",
       "CMP 128 Computer Science I                      150\n",
       "CMP 130 Intro to IT                               9\n",
       "CMP 131 Fundamentals of Programming (Python)     34\n",
       "CMP 239 Internet & Web Page Design               24\n",
       "Name: course, dtype: int64"
      ]
     },
     "execution_count": 133,
     "metadata": {},
     "output_type": "execute_result"
    }
   ],
   "source": [
    "#1. How many students from each different class responded to the survey? \n",
    "course = df.groupby(['course']).course.count()\n",
    "course"
   ]
  },
  {
   "cell_type": "code",
   "execution_count": 119,
   "id": "38a10e7f",
   "metadata": {},
   "outputs": [
    {
     "data": {
      "text/plain": [
       "gender\n",
       "I do not identify      3\n",
       "Man                  163\n",
       "Non-binary             3\n",
       "Prefer not to say      7\n",
       "Woman                 42\n",
       "Name: gender, dtype: int64"
      ]
     },
     "execution_count": 119,
     "metadata": {},
     "output_type": "execute_result"
    }
   ],
   "source": [
    "#2. What are the gender distribution?\n",
    "#gender = demo.groupby('gender').count().reset_index()\n",
    "gender1 = demo.groupby(['gender']).gender.count()\n",
    "gender1"
   ]
  },
  {
   "cell_type": "code",
   "execution_count": 75,
   "id": "e8da0c06",
   "metadata": {},
   "outputs": [
    {
     "data": {
      "text/plain": [
       "race\n",
       "American Indian/Native American/Alaska Native     1\n",
       "Asian                                            32\n",
       "Black/African American                            4\n",
       "Choose not to reply                              12\n",
       "Hispanic or Latino                               44\n",
       "Multi-Racial                                     33\n",
       "White/Caucasian                                  92\n",
       "Name: race, dtype: int64"
      ]
     },
     "execution_count": 75,
     "metadata": {},
     "output_type": "execute_result"
    }
   ],
   "source": [
    "#3. What is the racial/ethnic diversity?\n",
    "#race= demo.groupby('race').count().reset_index()\n",
    "ethnicity = demo.groupby(['race']).race.count()\n",
    "ethnicity"
   ]
  },
  {
   "cell_type": "code",
   "execution_count": 126,
   "id": "1fa75153",
   "metadata": {},
   "outputs": [
    {
     "data": {
      "text/plain": [
       "age\n",
       "18 and younger    78\n",
       "19-20             70\n",
       "21-24             42\n",
       "25-34             15\n",
       "35-64             10\n",
       "65+                3\n",
       "Name: age, dtype: int64"
      ]
     },
     "execution_count": 126,
     "metadata": {},
     "output_type": "execute_result"
    }
   ],
   "source": [
    "#4. What is the age distribution for the survey?\n",
    "age = demo.groupby(['age']).age.count()\n",
    "age"
   ]
  },
  {
   "cell_type": "code",
   "execution_count": 77,
   "id": "e822a460",
   "metadata": {},
   "outputs": [
    {
     "data": {
      "text/plain": [
       "individual_campus_visit    69\n",
       "oncampus_info_session      63\n",
       "open_house                 52\n",
       "hs_info_session.1          47\n",
       "virtual_info_session       29\n",
       "dtype: int64"
      ]
     },
     "execution_count": 77,
     "metadata": {},
     "output_type": "execute_result"
    }
   ],
   "source": [
    "#What events of the Department of IT had the most and least participants?\n",
    "events = df.drop(columns=['course','degree','gender', 'race', 'age'])\n",
    "attendance = (events == 'Yes').sum()\n",
    "most = attendance.sort_values(ascending=[False]).head(5)\n",
    "most"
   ]
  },
  {
   "cell_type": "code",
   "execution_count": 78,
   "id": "0a9d8e78",
   "metadata": {},
   "outputs": [
    {
     "data": {
      "text/plain": [
       "corporate_training             1\n",
       "women_who_dare                 2\n",
       "ccm_summer_camp                4\n",
       "workforce_development_class    5\n",
       "hour_of_code                   6\n",
       "dtype: int64"
      ]
     },
     "execution_count": 78,
     "metadata": {},
     "output_type": "execute_result"
    }
   ],
   "source": [
    "least = attendance.sort_values().head(5)\n",
    "least"
   ]
  },
  {
   "cell_type": "code",
   "execution_count": 79,
   "id": "b5d818cc",
   "metadata": {},
   "outputs": [
    {
     "data": {
      "text/plain": [
       "course                                        gender           \n",
       "CMP 128 Computer Science I                    I do not identify      3\n",
       "                                              Man                  114\n",
       "                                              Non-binary             1\n",
       "                                              Prefer not to say      6\n",
       "                                              Woman                 26\n",
       "CMP 130 Intro to IT                           Man                    8\n",
       "                                              Woman                  1\n",
       "CMP 131 Fundamentals of Programming (Python)  Man                   24\n",
       "                                              Non-binary             2\n",
       "                                              Woman                  8\n",
       "CMP 239 Internet & Web Page Design            Man                   16\n",
       "                                              Prefer not to say      1\n",
       "                                              Woman                  7\n",
       "Name: course, dtype: int64"
      ]
     },
     "execution_count": 79,
     "metadata": {},
     "output_type": "execute_result"
    }
   ],
   "source": [
    "#What is the gender ratio among the different courses?\n",
    "gender_ratio = demo.groupby(['course','gender']).course.count()\n",
    "gender_ratio"
   ]
  },
  {
   "cell_type": "code",
   "execution_count": 100,
   "id": "2250e04c",
   "metadata": {},
   "outputs": [
    {
     "data": {
      "text/html": [
       "<div>\n",
       "<style scoped>\n",
       "    .dataframe tbody tr th:only-of-type {\n",
       "        vertical-align: middle;\n",
       "    }\n",
       "\n",
       "    .dataframe tbody tr th {\n",
       "        vertical-align: top;\n",
       "    }\n",
       "\n",
       "    .dataframe thead th {\n",
       "        text-align: right;\n",
       "    }\n",
       "</style>\n",
       "<table border=\"1\" class=\"dataframe\">\n",
       "  <thead>\n",
       "    <tr style=\"text-align: right;\">\n",
       "      <th></th>\n",
       "      <th>course</th>\n",
       "      <th>degree</th>\n",
       "      <th>gender</th>\n",
       "      <th>race</th>\n",
       "      <th>age</th>\n",
       "    </tr>\n",
       "  </thead>\n",
       "  <tbody>\n",
       "    <tr>\n",
       "      <th>2</th>\n",
       "      <td>CMP 128 Computer Science I</td>\n",
       "      <td>Liberal Arts</td>\n",
       "      <td>Woman</td>\n",
       "      <td>White/Caucasian</td>\n",
       "      <td>19-20</td>\n",
       "    </tr>\n",
       "    <tr>\n",
       "      <th>11</th>\n",
       "      <td>CMP 128 Computer Science I</td>\n",
       "      <td>Business</td>\n",
       "      <td>Woman</td>\n",
       "      <td>Multi-Racial</td>\n",
       "      <td>18 and younger</td>\n",
       "    </tr>\n",
       "    <tr>\n",
       "      <th>33</th>\n",
       "      <td>CMP 128 Computer Science I</td>\n",
       "      <td>Computer Science</td>\n",
       "      <td>Woman</td>\n",
       "      <td>Hispanic or Latino</td>\n",
       "      <td>18 and younger</td>\n",
       "    </tr>\n",
       "    <tr>\n",
       "      <th>34</th>\n",
       "      <td>CMP 128 Computer Science I</td>\n",
       "      <td>Computer Science</td>\n",
       "      <td>Woman</td>\n",
       "      <td>Asian</td>\n",
       "      <td>18 and younger</td>\n",
       "    </tr>\n",
       "    <tr>\n",
       "      <th>37</th>\n",
       "      <td>CMP 128 Computer Science I</td>\n",
       "      <td>Challenger Program</td>\n",
       "      <td>Woman</td>\n",
       "      <td>American Indian/Native American/Alaska Native</td>\n",
       "      <td>19-20</td>\n",
       "    </tr>\n",
       "  </tbody>\n",
       "</table>\n",
       "</div>"
      ],
      "text/plain": [
       "                        course              degree gender  \\\n",
       "2   CMP 128 Computer Science I        Liberal Arts  Woman   \n",
       "11  CMP 128 Computer Science I            Business  Woman   \n",
       "33  CMP 128 Computer Science I    Computer Science  Woman   \n",
       "34  CMP 128 Computer Science I    Computer Science  Woman   \n",
       "37  CMP 128 Computer Science I  Challenger Program  Woman   \n",
       "\n",
       "                                             race             age  \n",
       "2                                 White/Caucasian           19-20  \n",
       "11                                   Multi-Racial  18 and younger  \n",
       "33                             Hispanic or Latino  18 and younger  \n",
       "34                                          Asian  18 and younger  \n",
       "37  American Indian/Native American/Alaska Native           19-20  "
      ]
     },
     "execution_count": 100,
     "metadata": {},
     "output_type": "execute_result"
    }
   ],
   "source": [
    "#Females under the age of 25\n",
    "#fem_under = dfc.drop(columns=['open_house', 'instant_decision_day', 'oncampus_info_session','virtual_info_session', 'women_who_dare', 'college_fair','hs_info_session', 'challenger_program','cybersecurity_info_protection_prog', 'hs_info_session.1','hs_campus_visit', 'individual_campus_visit','workforce_development_class', 'corporate_training','teen_arts_festival', 'ccm_summer_camp', 'hour_of_code'])\n",
    "#fem_under\n",
    "\n",
    "#fem_under = df[['course','degree','gender','race','age']]\n",
    "#fem_under\n",
    "\n",
    "\n",
    "population = demo[((demo.age == '18 and younger') | (demo.age == '19-20') | (demo.age == '21-24'))&(demo.gender == 'Woman')]\n",
    "#population = population.drop(columns=['gender'])\n",
    "population.head()"
   ]
  },
  {
   "cell_type": "code",
   "execution_count": 103,
   "id": "fac55356",
   "metadata": {},
   "outputs": [
    {
     "data": {
      "text/plain": [
       "race\n",
       "Asian                 6\n",
       "Hispanic or Latino    5\n",
       "Multi-Racial          6\n",
       "White/Caucasian       2\n",
       "Name: race, dtype: int64"
      ]
     },
     "execution_count": 103,
     "metadata": {},
     "output_type": "execute_result"
    }
   ],
   "source": [
    "#Population enrolled in IT related degree program\n",
    "it_related = population[(population.degree == 'Computer Science')|(population.degree == 'Data Analytics Certificate of Achievement')|(population.degree == 'Information Security Certificate of Achievement')|(population.degree == 'Information Technology')|(population.degree == 'Web Development Certificate of Achievement')]\n",
    "it_related = it_related.groupby(['race']).race.count()\n",
    "it_related"
   ]
  },
  {
   "cell_type": "code",
   "execution_count": 99,
   "id": "268a4e14",
   "metadata": {},
   "outputs": [
    {
     "data": {
      "text/plain": [
       "degree\n",
       "Biology                                        1\n",
       "Business                                       3\n",
       "CIS Game Development Option                    3\n",
       "Challenger Program                             2\n",
       "Computer Science                              12\n",
       "Data Analytics Certificate of Achievement      1\n",
       "Digital Media Technology                       1\n",
       "Early Childhood Education                      1\n",
       "Engineering                                    3\n",
       "Information Technology                         5\n",
       "Liberal Arts                                   1\n",
       "Psychology                                     1\n",
       "ShareTime CSIP Program                         2\n",
       "Web Development Certificate of Achievement     1\n",
       "Name: degree, dtype: int64"
      ]
     },
     "execution_count": 99,
     "metadata": {},
     "output_type": "execute_result"
    }
   ],
   "source": [
    "#Population degree programs \n",
    "pop_deg = population.groupby(['degree']).degree.count()\n",
    "pop_deg"
   ]
  },
  {
   "cell_type": "code",
   "execution_count": 160,
   "id": "0c9c5167",
   "metadata": {},
   "outputs": [
    {
     "data": {
      "text/html": [
       "<div>\n",
       "<style scoped>\n",
       "    .dataframe tbody tr th:only-of-type {\n",
       "        vertical-align: middle;\n",
       "    }\n",
       "\n",
       "    .dataframe tbody tr th {\n",
       "        vertical-align: top;\n",
       "    }\n",
       "\n",
       "    .dataframe thead th {\n",
       "        text-align: right;\n",
       "    }\n",
       "</style>\n",
       "<table border=\"1\" class=\"dataframe\">\n",
       "  <thead>\n",
       "    <tr style=\"text-align: right;\">\n",
       "      <th></th>\n",
       "      <th>course</th>\n",
       "      <th>degree</th>\n",
       "      <th>gender</th>\n",
       "      <th>race</th>\n",
       "      <th>age</th>\n",
       "    </tr>\n",
       "  </thead>\n",
       "  <tbody>\n",
       "    <tr>\n",
       "      <th>count</th>\n",
       "      <td>217</td>\n",
       "      <td>218</td>\n",
       "      <td>218</td>\n",
       "      <td>218</td>\n",
       "      <td>218</td>\n",
       "    </tr>\n",
       "    <tr>\n",
       "      <th>unique</th>\n",
       "      <td>4</td>\n",
       "      <td>24</td>\n",
       "      <td>5</td>\n",
       "      <td>7</td>\n",
       "      <td>6</td>\n",
       "    </tr>\n",
       "    <tr>\n",
       "      <th>top</th>\n",
       "      <td>CMP 128 Computer Science I</td>\n",
       "      <td>Computer Science</td>\n",
       "      <td>Man</td>\n",
       "      <td>White/Caucasian</td>\n",
       "      <td>18 and younger</td>\n",
       "    </tr>\n",
       "    <tr>\n",
       "      <th>freq</th>\n",
       "      <td>150</td>\n",
       "      <td>83</td>\n",
       "      <td>163</td>\n",
       "      <td>92</td>\n",
       "      <td>78</td>\n",
       "    </tr>\n",
       "  </tbody>\n",
       "</table>\n",
       "</div>"
      ],
      "text/plain": [
       "                            course            degree gender             race  \\\n",
       "count                          217               218    218              218   \n",
       "unique                           4                24      5                7   \n",
       "top     CMP 128 Computer Science I  Computer Science    Man  White/Caucasian   \n",
       "freq                           150                83    163               92   \n",
       "\n",
       "                   age  \n",
       "count              218  \n",
       "unique               6  \n",
       "top     18 and younger  \n",
       "freq                78  "
      ]
     },
     "execution_count": 160,
     "metadata": {},
     "output_type": "execute_result"
    }
   ],
   "source": [
    "#course = df.groupby(['course']).course.count()\n",
    "#course\n",
    "\n",
    "summ = demo.describe()\n",
    "summ"
   ]
  },
  {
   "cell_type": "code",
   "execution_count": 152,
   "id": "23ff9af4",
   "metadata": {},
   "outputs": [
    {
     "data": {
      "text/plain": [
       "<matplotlib.legend.Legend at 0x7fb730668f40>"
      ]
     },
     "execution_count": 152,
     "metadata": {},
     "output_type": "execute_result"
    },
    {
     "data": {
      "image/png": "[encoded data removed]",
      "text/plain": [
       "<Figure size 640x480 with 1 Axes>"
      ]
     },
     "metadata": {},
     "output_type": "display_data"
    }
   ],
   "source": [
    "plt.pie(gender1, labels=gender1)\n",
    "plt.legend(title=\"Gender\")"
   ]
  },
  {
   "cell_type": "code",
   "execution_count": null,
   "id": "d44b77e8",
   "metadata": {},
   "outputs": [],
   "source": []
  }
 ],
 "metadata": {
  "kernelspec": {
   "display_name": "Python 3 (ipykernel)",
   "language": "python",
   "name": "python3"
  },
  "language_info": {
   "codemirror_mode": {
    "name": "ipython",
    "version": 3
   },
   "file_extension": ".py",
   "mimetype": "text/x-python",
   "name": "python",
   "nbconvert_exporter": "python",
   "pygments_lexer": "ipython3",
   "version": "3.9.13"
  }
 },
 "nbformat": 4,
 "nbformat_minor": 5
}
